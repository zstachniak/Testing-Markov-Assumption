{
 "cells": [
  {
   "cell_type": "markdown",
   "metadata": {},
   "source": [
    "# Testing the Markov Assumption with POS Tagging"
   ]
  },
  {
   "cell_type": "markdown",
   "metadata": {},
   "source": [
    "Part-of-speech (POS) tagging is a Natural Language Processing (NLP) task that attempts to assign a grammatical tag (e.g. \"NN\" for singular noun and \"NNS\" for plural noun) to every word in a sentence or collection of sentences. \n",
    "\n",
    "Although POS tagging has been a subject of research since the 1960s, it is still considered an unsolved problem today. State-of-the-art techniques have stalled in recent years, unable to crack the 98% accuracy barrier, and the neural network boom has not provided the type of performance increases to POS taggers that have been seen in other fields.\n",
    "\n",
    "98% accuracy may sound high, but there are two big caveats. First, POS tagging is implemented at the word-level, and a large corpus may have billions of words. A 2% error rate at this level of magnitude, therefore, produces tens of millions of errors. Second, it should be noted that POS tagging has an extremely high baseline accuracy. We can achieve about 13% accuracy on a corpus simply by tagging every word as a noun, and can achieve about 62% accuracy on a corpus by taking the top 100 most frequent words and tagging any occurrence of those words with the most frequent tag for that word. By tagging all words with their most frequent tag (a simple probabilistic model), we can achieve over 80% accuracy. Using another simple tool, a Hidden Markov Model, we can often achieve around 90% accuracy. Given these extremely high baselines, 98% accuracy begins to seem rather unimpressive.\n",
    "\n",
    "In this notebook, we will explore some of the basics of POS tagging, taking a close look at baseline accuracies, the Markov assumption, and Hidden Markov Models, and will ultimately test whether or not the Markov assumption holds."
   ]
  },
  {
   "cell_type": "markdown",
   "metadata": {},
   "source": [
    "## Preparation"
   ]
  },
  {
   "cell_type": "markdown",
   "metadata": {},
   "source": [
    "### Libraries Used"
   ]
  },
  {
   "cell_type": "code",
   "execution_count": 1,
   "metadata": {
    "collapsed": true
   },
   "outputs": [],
   "source": [
    "from nltk.corpus import treebank, brown\n",
    "from nltk.tag.sequential import NgramTagger, UnigramTagger\n",
    "from nltk import FreqDist, ConditionalFreqDist, DefaultTagger\n",
    "\n",
    "from sklearn.utils import resample\n",
    "\n",
    "import time\n",
    "from collections import Counter\n",
    "import numpy as np\n",
    "from scipy.stats import norm, ttest_ind\n",
    "\n",
    "import matplotlib.pyplot as plt\n",
    "%matplotlib inline\n",
    "plt.rcParams['figure.figsize'] = (14, 8)"
   ]
  },
  {
   "cell_type": "markdown",
   "metadata": {},
   "source": [
    "### Gathering Data"
   ]
  },
  {
   "cell_type": "markdown",
   "metadata": {},
   "source": [
    "The NLTK library comes with several corpora, including the popular Treebank and Brown sets, both of which were hand-tagged with the correct part-of-speech. Having a training set where we are certain of the correct POS tags is vital to our ability to test our model accuracy."
   ]
  },
  {
   "cell_type": "code",
   "execution_count": 2,
   "metadata": {},
   "outputs": [
    {
     "name": "stdout",
     "output_type": "stream",
     "text": [
      "[nltk_data] Downloading package treebank to\n",
      "[nltk_data]     C:\\Users\\astachn1\\AppData\\Roaming\\nltk_data...\n",
      "[nltk_data]   Package treebank is already up-to-date!\n",
      "[nltk_data] Downloading package brown to\n",
      "[nltk_data]     C:\\Users\\astachn1\\AppData\\Roaming\\nltk_data...\n",
      "[nltk_data]   Package brown is already up-to-date!\n"
     ]
    },
    {
     "data": {
      "text/plain": [
       "True"
      ]
     },
     "execution_count": 2,
     "metadata": {},
     "output_type": "execute_result"
    }
   ],
   "source": [
    "# Note: Before you can access the NLTK corpora, you will need to download to your computer:\n",
    "import nltk\n",
    "nltk.download('treebank')\n",
    "nltk.download('brown')"
   ]
  },
  {
   "cell_type": "markdown",
   "metadata": {},
   "source": [
    "In order to simplify the process of pulling corpora from NLTK, we create two helper functions. The first simply returns a list of sentences that contain word/tag tuples, and the second ensures that all words are lowercase. This second function is important, for example, if we want to treat \"The\" and \"the\" as the same word."
   ]
  },
  {
   "cell_type": "code",
   "execution_count": 3,
   "metadata": {
    "collapsed": true
   },
   "outputs": [],
   "source": [
    "def pull_tagged_sents (corpus):\n",
    "    '''When passed an NLTK corpus that contains pre-tagged POS, returns a list of sentences\n",
    "    that contain word/tag tuples.'''\n",
    "    temp_list = []\n",
    "    # Iterate through the files in the corpus\n",
    "    for fileid in corpus.fileids():\n",
    "        # We use extend to create a list of lists\n",
    "        # Outer List [  *** contains lists of sentences ***  ]\n",
    "        # Inner Lists [  *** contain tuples of word, tag pairs *** ]\n",
    "        temp_list.extend(corpus.tagged_sents(fileid))\n",
    "    print('Number of sentences: {}'.format(len(temp_list)))\n",
    "    return temp_list\n",
    "\n",
    "def replace_uppercase (sentences):\n",
    "    '''Iterates through sentences of word/tag tuples and returns all lowercase words.'''\n",
    "    new_sentences = []\n",
    "    # Iterate through sentences\n",
    "    for sentence in sentences:\n",
    "        new_sentence = []\n",
    "        # Iterate through word/tag tuples\n",
    "        for (word, tag) in sentence:\n",
    "            # Replace words with lowercase\n",
    "            new_sentence.append((word.lower(), tag))\n",
    "        new_sentences.append(new_sentence)\n",
    "    return new_sentences"
   ]
  },
  {
   "cell_type": "code",
   "execution_count": 4,
   "metadata": {},
   "outputs": [
    {
     "name": "stdout",
     "output_type": "stream",
     "text": [
      "Number of sentences: 3914\n"
     ]
    }
   ],
   "source": [
    "# Pull treebank data from NLTK\n",
    "treebank_tagged_sents = pull_tagged_sents(treebank)"
   ]
  },
  {
   "cell_type": "code",
   "execution_count": 5,
   "metadata": {},
   "outputs": [
    {
     "name": "stdout",
     "output_type": "stream",
     "text": [
      "Number of sentences: 57340\n"
     ]
    }
   ],
   "source": [
    "# Pull brown data from NTLK\n",
    "brown_tagged_sents = pull_tagged_sents(brown)"
   ]
  },
  {
   "cell_type": "markdown",
   "metadata": {},
   "source": [
    "As we can see, the Brown corpus is much larger than Treebank. "
   ]
  },
  {
   "cell_type": "code",
   "execution_count": 6,
   "metadata": {
    "collapsed": true
   },
   "outputs": [],
   "source": [
    "# Replace any uppercase words with lowercase\n",
    "treebank_tagged_sents = replace_uppercase(treebank_tagged_sents)\n",
    "brown_tagged_sents = replace_uppercase(brown_tagged_sents)"
   ]
  },
  {
   "cell_type": "markdown",
   "metadata": {},
   "source": [
    "## Baseline Results"
   ]
  },
  {
   "cell_type": "markdown",
   "metadata": {},
   "source": [
    "### Baseline Using Most Frequent Tag"
   ]
  },
  {
   "cell_type": "markdown",
   "metadata": {},
   "source": [
    "The absolute simplest POS tagger would tag every word with the most frequent tag. This is similar to a predictive model which always predicts the majority class in an imbalanced dataset, thereby earning a falsely high accuracy score.\n",
    "\n",
    "In almost any corpus, the most frequent tag will be \"NN\" for \"singular noun.\" Below we can see that a little more than 13% of all words in Treebank are singular nouns."
   ]
  },
  {
   "cell_type": "code",
   "execution_count": 7,
   "metadata": {},
   "outputs": [
    {
     "name": "stdout",
     "output_type": "stream",
     "text": [
      "NN: 13.08%\n"
     ]
    }
   ],
   "source": [
    "# Initialize list\n",
    "POS_tags = []\n",
    "# Iterate through sentences in training set\n",
    "for sent in treebank_tagged_sents:\n",
    "    # Create a list of all tags in the corpus\n",
    "    POS_tags.extend([tag for (_, tag) in sent])\n",
    "# Build a frequency distribution of tags\n",
    "tag_dist = FreqDist(POS_tags)\n",
    "# Determine the most frequent tag\n",
    "most_freq_tag = FreqDist(POS_tags).max()\n",
    "# Determine the frequency rate of that tag\n",
    "most_freq_tag_rate = tag_dist[most_freq_tag] / len(POS_tags)\n",
    "print('{0}: {1:.2f}%'.format(most_freq_tag, most_freq_tag_rate * 100))"
   ]
  },
  {
   "cell_type": "markdown",
   "metadata": {},
   "source": [
    "Using this information, we can build a tagger which will tag every word in a sentence as \"NN\". Below we demonstrate this method on a test sentence from the Treebank corpus, proving that our tagger functions as expected. Finally, we demonstrate the overall accuracy of the tagger (which, in this case, will be the same as the frequency distribution of \"NN\" in the full corpus). This rate should function as our baseline accuracy for tagging."
   ]
  },
  {
   "cell_type": "code",
   "execution_count": 8,
   "metadata": {
    "collapsed": true
   },
   "outputs": [],
   "source": [
    "# Build a tagger that will tag all words by the most frequent tag in training set\n",
    "max_freq_tagger = DefaultTagger(most_freq_tag)"
   ]
  },
  {
   "cell_type": "code",
   "execution_count": 9,
   "metadata": {},
   "outputs": [
    {
     "name": "stdout",
     "output_type": "stream",
     "text": [
      "pierre vinken , 61 years old , will join the board as a nonexecutive director nov. 29 .\n"
     ]
    }
   ],
   "source": [
    "# Gather and print a test sentence\n",
    "test_sentence = [i[0] for i in treebank_tagged_sents[0]]\n",
    "print(' '.join(test_sentence))"
   ]
  },
  {
   "cell_type": "code",
   "execution_count": 10,
   "metadata": {
    "scrolled": true
   },
   "outputs": [
    {
     "data": {
      "text/plain": [
       "[('pierre', 'NN'),\n",
       " ('vinken', 'NN'),\n",
       " (',', 'NN'),\n",
       " ('61', 'NN'),\n",
       " ('years', 'NN'),\n",
       " ('old', 'NN'),\n",
       " (',', 'NN'),\n",
       " ('will', 'NN'),\n",
       " ('join', 'NN'),\n",
       " ('the', 'NN'),\n",
       " ('board', 'NN'),\n",
       " ('as', 'NN'),\n",
       " ('a', 'NN'),\n",
       " ('nonexecutive', 'NN'),\n",
       " ('director', 'NN'),\n",
       " ('nov.', 'NN'),\n",
       " ('29', 'NN'),\n",
       " ('.', 'NN')]"
      ]
     },
     "execution_count": 10,
     "metadata": {},
     "output_type": "execute_result"
    }
   ],
   "source": [
    "# Tag the test sentence to demonstrate functionality\n",
    "max_freq_tagger.tag(test_sentence)"
   ]
  },
  {
   "cell_type": "code",
   "execution_count": 11,
   "metadata": {},
   "outputs": [
    {
     "data": {
      "text/plain": [
       "0.13077595454726051"
      ]
     },
     "execution_count": 11,
     "metadata": {},
     "output_type": "execute_result"
    }
   ],
   "source": [
    "# Demonstrate the accuracy of the tagger\n",
    "max_freq_tagger.evaluate(treebank_tagged_sents)"
   ]
  },
  {
   "cell_type": "markdown",
   "metadata": {},
   "source": [
    "### Baseline Using Top 100 Most Frequent Words\n",
    "As our next baseline, we will extend the default tagger above to first check if the word is one of the top 100 most frequent words in the corpus. If so, it will tag that word with the most frequent tag for that particular word (e.g. \"run\" is most commonly a verb). If the word is not in the top 100, the tagger will \"back off\" to tagging all words as \"NN\". This is known as <b>backoff smoothing</b>, and is commonly used in POS taggers."
   ]
  },
  {
   "cell_type": "code",
   "execution_count": 12,
   "metadata": {
    "collapsed": true
   },
   "outputs": [],
   "source": [
    "# Initialize a Counter object from collections\n",
    "vocab_counts = Counter()\n",
    "# Iterate through sentences\n",
    "for sent in treebank_tagged_sents:\n",
    "    # Update the vocab counts\n",
    "    vocab_counts.update([word_tuple[0] for word_tuple in sent])"
   ]
  },
  {
   "cell_type": "code",
   "execution_count": 13,
   "metadata": {},
   "outputs": [
    {
     "data": {
      "text/plain": [
       "[(',', 4885),\n",
       " ('the', 4764),\n",
       " ('.', 3828),\n",
       " ('of', 2325),\n",
       " ('to', 2182),\n",
       " ('a', 1988),\n",
       " ('in', 1769),\n",
       " ('and', 1556)]"
      ]
     },
     "execution_count": 13,
     "metadata": {},
     "output_type": "execute_result"
    }
   ],
   "source": [
    "# Gather the 100 most frequent words in training set\n",
    "top_100 = vocab_counts.most_common(100)\n",
    "top_100[:8]"
   ]
  },
  {
   "cell_type": "code",
   "execution_count": 14,
   "metadata": {
    "collapsed": true
   },
   "outputs": [],
   "source": [
    "# Build a Conditional Frequency Distribution, which will return the tag distribution for each word\n",
    "all_sents = []\n",
    "# Iterate through sentences in training set\n",
    "for sent in treebank_tagged_sents:\n",
    "    # Collate all sentences for later use with conditional frequency\n",
    "    all_sents.extend(sent)\n",
    "conditional_freq = ConditionalFreqDist(all_sents)"
   ]
  },
  {
   "cell_type": "code",
   "execution_count": 15,
   "metadata": {
    "collapsed": true
   },
   "outputs": [],
   "source": [
    "# Build a dictionary of the 100 most frequent words and their most frequent tag\n",
    "top_100_top_tags = {}\n",
    "for (word, _) in top_100:\n",
    "    top_100_top_tags[word] = conditional_freq[word].max()"
   ]
  },
  {
   "cell_type": "code",
   "execution_count": 16,
   "metadata": {
    "collapsed": true
   },
   "outputs": [],
   "source": [
    "# Build a new default tagger that first tags using the conditional distributions of the top 100 words\n",
    "# and then backs off to the most frequent tag\n",
    "top_100_tagger = UnigramTagger(model=top_100_top_tags, backoff=max_freq_tagger)"
   ]
  },
  {
   "cell_type": "code",
   "execution_count": 17,
   "metadata": {},
   "outputs": [
    {
     "data": {
      "text/plain": [
       "[('pierre', 'NN'),\n",
       " ('vinken', 'NN'),\n",
       " (',', ','),\n",
       " ('61', 'NN'),\n",
       " ('years', 'NNS'),\n",
       " ('old', 'NN'),\n",
       " (',', ','),\n",
       " ('will', 'MD'),\n",
       " ('join', 'NN'),\n",
       " ('the', 'DT'),\n",
       " ('board', 'NN'),\n",
       " ('as', 'IN'),\n",
       " ('a', 'DT'),\n",
       " ('nonexecutive', 'NN'),\n",
       " ('director', 'NN'),\n",
       " ('nov.', 'NN'),\n",
       " ('29', 'NN'),\n",
       " ('.', '.')]"
      ]
     },
     "execution_count": 17,
     "metadata": {},
     "output_type": "execute_result"
    }
   ],
   "source": [
    "# Tag the test sentence to demonstrate functionality\n",
    "top_100_tagger.tag(test_sentence)"
   ]
  },
  {
   "cell_type": "code",
   "execution_count": 18,
   "metadata": {},
   "outputs": [
    {
     "data": {
      "text/plain": [
       "0.6135325201636934"
      ]
     },
     "execution_count": 18,
     "metadata": {},
     "output_type": "execute_result"
    }
   ],
   "source": [
    "# Demonstrate the accuracy of the tagger\n",
    "top_100_tagger.evaluate(treebank_tagged_sents)"
   ]
  },
  {
   "cell_type": "markdown",
   "metadata": {},
   "source": [
    "Wow! What a difference incorporating the top 100 words made! It may seem surprising that we can achieve over 61% accuracy using such a simple tagger, but the reason is simple: many of the most frequent words or punctuation characters are given their own tag in the Penn Treebank tagging system. For example, the word \"to\" is always tagged as \"TO\" just as \"the\" will always be a determiner, \"DET\". The same applies to commas and periods. \n",
    "\n",
    "Another way of viewing this is to recognize that the Penn Treebank tags were invented by researchers to solve the problem of POS tagging. As such, they took shortcuts to make the task easier. The word \"to\" has many varying uses in the English language, but it certainly is easy to tag correctly if we assign it its own tag. Similarly, assigning the \",\" tag to a comma cannot tell us whether the punctuation mark is separating a list of nouns or two independent clauses - we are simply verifying that it's a comma.\n",
    "\n",
    "The point of demonstrating this as a baseline tagger is to make it clear that a high percentage of words in any corpora can be correctly tagged with almost no effort, simply because the tags for the most frequent words are nearly foolproof."
   ]
  },
  {
   "cell_type": "markdown",
   "metadata": {},
   "source": [
    "## Hidden Markov Models"
   ]
  },
  {
   "cell_type": "markdown",
   "metadata": {},
   "source": [
    "Before we get into Hidden Markov Models, we need to understand the <b>Markov Assumption</b>. The Markov Assumption is that we can represent the probability of a state only by the previous state, or that:"
   ]
  },
  {
   "cell_type": "markdown",
   "metadata": {},
   "source": [
    "$$P(q_i|q_1…q_{i-1}) = P(q_i|q_{i-1})$$"
   ]
  },
  {
   "cell_type": "markdown",
   "metadata": {},
   "source": [
    "According to the Markov Assumption, the accuracy of POS tagging using only the state before the state in question should be as accurate as using more than one previous state. We will test this assumption below by comparing to models that use multiple previous states."
   ]
  },
  {
   "cell_type": "markdown",
   "metadata": {},
   "source": [
    "A Hidden Markov Model (HMM) is just a Markov process that includes hidden states as well. A simple way to think of this in terms of POS tagging is that we can base the predicted tag of our current word on 1) the tag of the previous word, and 2) the probabilistic tag of the current word based on the frequency distribution for that word."
   ]
  },
  {
   "cell_type": "markdown",
   "metadata": {},
   "source": [
    "The first part is \"visible\" to us, so long as we are tagging each word in a sentence in sequential order. The second part, called the emission probability, is \"hidden\", or not directly known from the previous state. To understand why a HMM might help in POS tagging, consider the phrase \"to fish\". By itself, \"fish\" might be more commonly used as a noun; let's say 60% of the time it's a noun, and 40% verb. However, we know that the presence of \"to\" directly before the word suggests that it is probably being used as a verb. Using both together, we can assign a probability that \"fish\" is a verb versus a noun."
   ]
  },
  {
   "cell_type": "markdown",
   "metadata": {},
   "source": [
    "When tagging a sentence using a HMM, the Viterbi algorithm is generally used to manage these various probabilistic outputs and choose the best path. In the Viterbi algorithm, we generate all possible probabilistic paths from sentence beginning to sentence end. Then, we move backwards from the end, choosing the highest probability at each stage."
   ]
  },
  {
   "cell_type": "markdown",
   "metadata": {},
   "source": [
    "### Experimental Results"
   ]
  },
  {
   "cell_type": "markdown",
   "metadata": {},
   "source": [
    "Experimental results were evaluated using bootstrapping. Because Hidden Markov Model POS taggers assume a hard barrier at the beginning and end of each sentence, sentence order does not matter and we can safely consider sentences to be independent observations. We therefore can randomly sample a set of sentences to use for training and testing purposes. In this case study, we use a standard bootstrapping method where we randomly sample sentences with replacement until we have the same length as the original number of sentences. Any sentences not chosen then form the test set. We perform 100 iterations."
   ]
  },
  {
   "cell_type": "markdown",
   "metadata": {},
   "source": [
    "For each bootstrapped training set, a vocabulary is built, and any words with a frequency of occurrence less than 5 are removed from the vocabulary to form a reduced vocabulary. For all words in the bootstrapped training and test sets, any word not in the reduced vocabulary is replaced with the “UNK” token. A default tagger is built using whatever the most frequent tag is in the bootstrapped training set. Then, the top 100 words in order of frequency of occurrence are used to create the “0-gram” tagger, which will backoff to the default tagger for all other words. For all n-grams from 1 to 5 (the maximum n-gram length considered), an n-gram tagger is built which backs off to the previous n-gram for unseen occurrences. So, the 2-gram tagger would back off to the 1-gram tagger, which would back off to the 0-gram tagger (which uses the top 100 words), which in turn backs off to the default tagger. In this way, the taggers always have a fallback for unseen occurences."
   ]
  },
  {
   "cell_type": "markdown",
   "metadata": {},
   "source": [
    "Each n-gram tagger is evaluated on the bootstrapped test set, and the overall accuracy and time-to-tag are reported."
   ]
  },
  {
   "cell_type": "markdown",
   "metadata": {},
   "source": [
    "The functions below will help keep our code DRY, and should be self-explanatory for the most part. The last function, evaluate_n_grams, is simply a wrapper that puts everything together and governs the flow of our multiple tests."
   ]
  },
  {
   "cell_type": "code",
   "execution_count": 19,
   "metadata": {
    "collapsed": true
   },
   "outputs": [],
   "source": [
    "def build_vocab_counts (training_set, threshold=5):\n",
    "    '''Build a Counter object of word/count key/values. Also returns a standard\n",
    "    Python dictionary which ignores any words with a count below the threshold.'''\n",
    "    # Initialize a Counter object from collections\n",
    "    vocab_counts = Counter()\n",
    "    # Iterate through sentences\n",
    "    for sent in training_set:\n",
    "        # Update the vocab counts\n",
    "        vocab_counts.update([word_tuple[0] for word_tuple in sent])\n",
    "    # Also build a dictionary of words above the minimum threshold count\n",
    "    vocab_counts_above_min = {word: count for word, count in vocab_counts.items() if count > threshold}\n",
    "    return vocab_counts, vocab_counts_above_min"
   ]
  },
  {
   "cell_type": "code",
   "execution_count": 20,
   "metadata": {
    "collapsed": true
   },
   "outputs": [],
   "source": [
    "def replace_low_freq_words (sentences, vocab):\n",
    "    '''A function to iterate through word/tag tuples in a list of sentences that\n",
    "    replaces low frequency words with 'UNK' token.'''\n",
    "    new_sentences = []\n",
    "    # Iterate through sentences\n",
    "    for sentence in sentences:\n",
    "        new_sentence = []\n",
    "        # Iterate through word/tag tuples\n",
    "        for (word, tag) in sentence:\n",
    "            # Replace low frequency words with 'UNK'\n",
    "            if word not in vocab:\n",
    "                word = 'UNK'\n",
    "            new_sentence.append((word, tag))\n",
    "        new_sentences.append(new_sentence)\n",
    "    return new_sentences"
   ]
  },
  {
   "cell_type": "code",
   "execution_count": 21,
   "metadata": {
    "collapsed": true
   },
   "outputs": [],
   "source": [
    "def test_accuracy (test_set, tagger):\n",
    "    '''A function to determine the accuracy of a tagger. Returns more information\n",
    "    than the NLTK .evaluate method.'''\n",
    "    # Initialize counters\n",
    "    total_correct = 0\n",
    "    total_obs = 0\n",
    "    extended_y = []\n",
    "    extended_y_pred = []\n",
    "    # Initialize timer\n",
    "    t0 = time.time()\n",
    "    for sent in test_set:\n",
    "        # Split into x (word) and y (tag)\n",
    "        x = [w[0] for w in sent]\n",
    "        y = [w[1] for w in sent]\n",
    "        # Make predictions using HMM tagger\n",
    "        y_pred = [w[1] for w in tagger.tag(x)]\n",
    "        # Add up the total number of observations\n",
    "        total_obs += len(y)\n",
    "        # Add up the total number of correct predictions\n",
    "        # Note the use of np.core.defchararray.equal instead of np.equal\n",
    "        # as we are comparing strings\n",
    "        total_correct += np.sum(np.core.defchararray.equal(y, y_pred))\n",
    "    # Update timer\n",
    "    t1 = time.time()\n",
    "    time_to_tag = t1 - t0\n",
    "    # Determine overall accuracy\n",
    "    acc = total_correct / total_obs\n",
    "    return total_correct, total_obs, acc, time_to_tag"
   ]
  },
  {
   "cell_type": "code",
   "execution_count": 22,
   "metadata": {
    "collapsed": true
   },
   "outputs": [],
   "source": [
    "class Bootstrap_Indices:\n",
    "    '''A cross-validation iterator that will work with GridSearchCV.\n",
    "    The iterator uses Sci-Kit Learn's resample method to sample with replacement and\n",
    "    uses Numpy's in1d method to determine which indices will be in the test set. Also\n",
    "    relies on Numpy's arange method.\n",
    "\n",
    "    @ Parameters:\n",
    "    ---------------\n",
    "    n: number of observations\n",
    "    m: number of times to sample with replacement\n",
    "\n",
    "    @ Returns:\n",
    "    ---------------\n",
    "    an iterable of idx_train, idx_test indices\n",
    "    '''\n",
    "\n",
    "    def __init__(self, n, m):\n",
    "        self.n = n\n",
    "        self.m = m\n",
    "        self.i = 0\n",
    "\n",
    "    def __len__(self):\n",
    "        return self.m\n",
    "\n",
    "    def __iter__(self):\n",
    "        idx = np.arange(self.n)\n",
    "        while self.i < self.m:\n",
    "            self.i += 1\n",
    "            idx_train = resample(idx)\n",
    "            mask = np.in1d(idx, idx_train, invert=True)\n",
    "            idx_test = idx[mask]\n",
    "            yield idx_train, idx_test"
   ]
  },
  {
   "cell_type": "code",
   "execution_count": 23,
   "metadata": {
    "collapsed": true
   },
   "outputs": [],
   "source": [
    "def evaluate_n_grams(data, max_n=5, **kwargs):\n",
    "    '''A wrapper function that evaluates various n-gram taggers and returns results.\n",
    "    \n",
    "    @ Parameters:\n",
    "    ---------------\n",
    "    data: a list of sentences on which to test tagging\n",
    "    max_n: The maximum number of elements to consider in a Markov chain\n",
    "    \n",
    "    @ Optional Keyword Arguments:\n",
    "    ---------------\n",
    "    bootstrap_m: the number of bootstrapping samples to test\n",
    "    min_freq_threshold: the minimum number of times a word must appear (otherwise replaced with <UNK>)\n",
    "\n",
    "    @ Returns:\n",
    "    ---------------\n",
    "    an iterable of idx_train, idx_test indices\n",
    "    '''\n",
    "    \n",
    "    # Gather optional keyword arguments\n",
    "    bootstrap_m = kwargs.pop('bootstrap_m', 100)\n",
    "    min_freq_threshold = kwargs.pop('min_freq_threshold', 5)\n",
    "\n",
    "    # Initialize a storage dictionary\n",
    "    temp_dict = {}\n",
    "    # Iterate through the possible values of n\n",
    "    for n in range(max_n + 1):\n",
    "        temp_dict[n] = {}\n",
    "        temp_dict[n]['total_correct'] = np.array([])\n",
    "        temp_dict[n]['total_obs'] = np.array([])\n",
    "        temp_dict[n]['acc'] = np.array([])\n",
    "        temp_dict[n]['time_to_tag'] = np.array([])\n",
    "\n",
    "    # Create a bootstrap iterator\n",
    "    bootstrap = Bootstrap_Indices(len(data), bootstrap_m)\n",
    "    counter = 0\n",
    "\n",
    "    # For each bootstrap iteration\n",
    "    for x_ix, y_ix in bootstrap:\n",
    "        \n",
    "        # Gater data into training and testing sets\n",
    "        training_set = [data[i] for i in x_ix]\n",
    "        testing_set = [data[i] for i in y_ix]\n",
    "\n",
    "        # Build a vocab counter for training set\n",
    "        vocab_counts, vocab_counts_above_min = build_vocab_counts(training_set, threshold=min_freq_threshold)\n",
    "\n",
    "        # Replace low frequency words with UNK\n",
    "        training_set_updated = replace_low_freq_words(training_set, vocab_counts_above_min)\n",
    "        testing_set_updated = replace_low_freq_words(testing_set, vocab_counts_above_min)\n",
    "\n",
    "        # Iterate through the possible values of n\n",
    "        for n in range(max_n + 1):\n",
    "\n",
    "            if n == 0:\n",
    "                # Initialize lists\n",
    "                POS_tags = []\n",
    "                all_sents = []\n",
    "                # Iterate through sentences in training set\n",
    "                for sent in training_set:\n",
    "                    # Create a list of all tags in the corpus\n",
    "                    POS_tags.extend([tag for (_, tag) in sent])\n",
    "                    # Collate all sentences for later use with conditional frequency\n",
    "                    all_sents.extend(sent)\n",
    "                # Determine the most frequent tag\n",
    "                most_freq_tag = FreqDist(POS_tags).max()\n",
    "                # Build a default tagger that will tag all words by the most frequent tag in training set\n",
    "                max_freq_tagger = DefaultTagger(most_freq_tag)\n",
    "                # Gather the 100 most frequent words in training set\n",
    "                top_100 = vocab_counts.most_common(100)\n",
    "                # Build a Conditional Frequency Distribution, which will return the tag distribution for each word\n",
    "                conditional_freq = ConditionalFreqDist(all_sents)\n",
    "                # Build a dictionary of the 100 most frequent words and their most frequent tag\n",
    "                top_100_top_tags = {}\n",
    "                for (word, _) in top_100:\n",
    "                    top_100_top_tags[word] = conditional_freq[word].max()\n",
    "                # Build a new default tagger that first tags using the conditional distributions of the top 100 words\n",
    "                # and then backs off to the most frequent tag\n",
    "                temp_dict[n]['tagger'] = UnigramTagger(model=top_100_top_tags, backoff=max_freq_tagger)\n",
    "\n",
    "            else:\n",
    "                # Initialize n-gram HMM tagger that uses n-1 -gram tagger for backoff\n",
    "                # Note the use of the updated training set with 'UNK' words\n",
    "                temp_dict[n]['tagger'] = NgramTagger(n, train=training_set_updated, backoff=temp_dict[n - 1]['tagger'])\n",
    "\n",
    "            # Evaluate each model and save results\n",
    "            total_correct, total_obs, acc, time_to_tag = test_accuracy(testing_set_updated, temp_dict[n]['tagger'])\n",
    "            temp_dict[n]['total_correct'] = np.append(temp_dict[n]['total_correct'], total_correct)\n",
    "            temp_dict[n]['total_obs'] = np.append(temp_dict[n]['total_obs'], total_obs)\n",
    "            temp_dict[n]['acc'] = np.append(temp_dict[n]['acc'], acc)\n",
    "            temp_dict[n]['time_to_tag'] = np.append(temp_dict[n]['time_to_tag'], time_to_tag)\n",
    "\n",
    "        counter += 1\n",
    "\n",
    "    return temp_dict"
   ]
  },
  {
   "cell_type": "code",
   "execution_count": 24,
   "metadata": {
    "collapsed": true
   },
   "outputs": [],
   "source": [
    "treebank_results = evaluate_n_grams(treebank_tagged_sents, max_n=5)\n",
    "brown_results = evaluate_n_grams(brown_tagged_sents, max_n=5)"
   ]
  },
  {
   "cell_type": "markdown",
   "metadata": {},
   "source": [
    "### Results\n",
    "The functions below make it simple to review the overall accuracy of our POS taggers."
   ]
  },
  {
   "cell_type": "code",
   "execution_count": 25,
   "metadata": {
    "collapsed": true
   },
   "outputs": [],
   "source": [
    "def plot_results (result_dict, corpus_name):\n",
    "    '''A function to plot both accuracy and time-to-tag results in one graph.'''\n",
    "    # Initialize plot\n",
    "    fig, ax = plt.subplots()\n",
    "    # Sort the results by n-gram number\n",
    "    x = sorted(result_dict.keys())\n",
    "    \n",
    "    # Append accuracy and time to lists\n",
    "    acc = []\n",
    "    time = []\n",
    "    for n in x:\n",
    "        acc.append(np.mean(result_dict[n]['acc']))\n",
    "        time.append(np.mean(result_dict[n]['time_to_tag']))\n",
    "\n",
    "    # Plot accuracy and set options\n",
    "    line1 = ax.plot(x, acc, color='C0', label='Accuracy')\n",
    "    ax.set_title('POS Tagging on {} Corpus'.format(corpus_name))\n",
    "    ax.set_xticks(x)\n",
    "    ax.set_xlabel('Number of n-grams considered')\n",
    "    ax.set_ylim([0.60, 1.00])\n",
    "    ax.set_ylabel('Overall Tagging Accuracy')\n",
    "\n",
    "    # Plot time on the same axis\n",
    "    ax_time = ax.twinx()\n",
    "    line2 = ax_time.plot(x, time, color='C1', label='Time to Tag')\n",
    "    ax_time.set_ylabel('Time to Tag (in seconds)')\n",
    "    \n",
    "    # Setting up legend\n",
    "    lines = line1 + line2\n",
    "    labels = [line.get_label() for line in lines]\n",
    "    ax.legend(lines, labels, loc=4)\n",
    "\n",
    "    plt.show()"
   ]
  },
  {
   "cell_type": "code",
   "execution_count": 26,
   "metadata": {
    "collapsed": true
   },
   "outputs": [],
   "source": [
    "def print_results(data, measure, title, **kwargs):\n",
    "    '''A function to print Mean, Stdev, and Conf Interval results.'''\n",
    "    C = kwargs.pop('C', 0.95)\n",
    "    print('{} POS Tagging Results'.format(title))\n",
    "    for n in sorted(data.keys()):\n",
    "        # Calculate confidence interval\n",
    "        conf = norm.interval(C, loc=data[n][measure].mean(), scale=data[n][measure].std()) \n",
    "        print('{0}-gram\\tMean: {1:.2f} Std: {2:.4f} 95%Conf: ({3:.2f}, {4:.2f})'.format(n, data[n][measure].mean(), data[n][measure].std(), conf[0], conf[1]))"
   ]
  },
  {
   "cell_type": "code",
   "execution_count": 27,
   "metadata": {},
   "outputs": [
    {
     "data": {
      "image/png": "[encoded data removed]",
      "text/plain": [
       "<matplotlib.figure.Figure at 0x187442df940>"
      ]
     },
     "metadata": {},
     "output_type": "display_data"
    },
    {
     "name": "stdout",
     "output_type": "stream",
     "text": [
      "Treebank POS Tagging Results\n",
      "0-gram\tMean: 0.61 Std: 0.0022 95%Conf: (0.61, 0.62)\n",
      "1-gram\tMean: 0.80 Std: 0.0023 95%Conf: (0.80, 0.81)\n",
      "2-gram\tMean: 0.85 Std: 0.0024 95%Conf: (0.85, 0.86)\n",
      "3-gram\tMean: 0.86 Std: 0.0021 95%Conf: (0.85, 0.86)\n",
      "4-gram\tMean: 0.85 Std: 0.0020 95%Conf: (0.85, 0.86)\n",
      "5-gram\tMean: 0.85 Std: 0.0019 95%Conf: (0.85, 0.86)\n"
     ]
    }
   ],
   "source": [
    "plot_results(treebank_results, 'Treebank')\n",
    "print_results(treebank_results, 'acc', 'Treebank')"
   ]
  },
  {
   "cell_type": "code",
   "execution_count": 28,
   "metadata": {
    "scrolled": false
   },
   "outputs": [
    {
     "data": {
      "image/png": "[encoded data removed]",
      "text/plain": [
       "<matplotlib.figure.Figure at 0x18745f0f080>"
      ]
     },
     "metadata": {},
     "output_type": "display_data"
    },
    {
     "name": "stdout",
     "output_type": "stream",
     "text": [
      "Brown POS Tagging Results\n",
      "0-gram\tMean: 0.63 Std: 0.0008 95%Conf: (0.63, 0.63)\n",
      "1-gram\tMean: 0.86 Std: 0.0006 95%Conf: (0.86, 0.86)\n",
      "2-gram\tMean: 0.89 Std: 0.0006 95%Conf: (0.89, 0.89)\n",
      "3-gram\tMean: 0.89 Std: 0.0006 95%Conf: (0.89, 0.89)\n",
      "4-gram\tMean: 0.89 Std: 0.0006 95%Conf: (0.89, 0.89)\n",
      "5-gram\tMean: 0.88 Std: 0.0006 95%Conf: (0.88, 0.89)\n"
     ]
    }
   ],
   "source": [
    "plot_results(brown_results, 'Brown')\n",
    "print_results(brown_results, 'acc', 'Brown')"
   ]
  },
  {
   "cell_type": "markdown",
   "metadata": {},
   "source": [
    "As can be seen above, for both corpora we begin with a fairly high baseline tagging accuracy around 62% for the “0-gram” tagger. The “1-gram” tagger, which only considers the emission probabilities for each word in a sentence brings the tagging accuracy up to 80% for Treebank and 86% for Brown. The first true Hidden Markov Model (considers both transition probabilities of previous word and emission probabilities of current word), then, the “2-gram” tagger, improves accuracy to 85% for Treebank and 89% for Brown. This does not seem like much of an improvement, but it should be noted that for Treebank we are making around 37,000 predictions, and for Brown about 425,000. An increase of three percentage points in overall accuracy in the Brown corpus, therefore, translates to almost 13,000 additional correct predictions."
   ]
  },
  {
   "cell_type": "markdown",
   "metadata": {},
   "source": [
    "Most importantly, it can be observed that there is almost no increase in performance past the “2-gram” tagger. By the eye test, the Markov assumption appears to hold true. However, it is required that we go past a simple eye test. When running a student’s T-test at alpha=0.05, it can be observed (see below) that there is a statistically significant improvement in accuracy for the “3-gram” tagger for both the Treebank and Brown corpora. There is no improvement in accuracy over the “2-gram” model for the “4-gram” and “5-gram” models, and this flat-lining in accuracy can be directly observed in figures 1 and 2."
   ]
  },
  {
   "cell_type": "markdown",
   "metadata": {},
   "source": [
    "### Testing for Significance"
   ]
  },
  {
   "cell_type": "code",
   "execution_count": 29,
   "metadata": {
    "collapsed": true
   },
   "outputs": [],
   "source": [
    "def compare_scores (*args, alternate='less', **kwargs):\n",
    "    '''Function performs a series of t-tests, comparing the first element in *args to all \n",
    "    other elements. To avoid increasing the likelihood of making a Type I error, we use the\n",
    "    Bonferroni method, which divides the alpha value by the number of hypotheses tested.\n",
    "    \n",
    "    The T-test function provided in SciPy always produces a two-side test, but the user\n",
    "    can choose a one-sided test by supplying the necessary parameter.\n",
    "    \n",
    "    We would reject the null hypothesis when:\n",
    "        * H0: a <= b, Ha: a > b : reject H0 when p/2 < alpha and t > 0\n",
    "        * H0: a >= b, Ha: a < b : reject H0 when p/2 < alpha and t < 0\n",
    "        * H0: a = b, Ha: a != b : reject H0 when p < alpha\n",
    "        \n",
    "    @ Parameters:\n",
    "    ---------------\n",
    "    *args: list of score arrays, where first in list is compared to all others\n",
    "    alternate: value of \"less\", \"more\", or \"unequal\" - will determine test that is run.\n",
    "        User should assume \"less\" means that they are testing if the scores of the first\n",
    "        argument are less than the scores of all other arguments.\n",
    "    \n",
    "    @ **kwargs (optional):\n",
    "    ---------------\n",
    "    alpha: alpha value for testing (function will automatically update if required for\n",
    "        one-sided test and to take into account Bonferroni method)\n",
    "    labels: a list of names of the score arrays\n",
    "    '''\n",
    "    # Gather keyword arguments, if any\n",
    "    alpha = kwargs.pop('alpha', 0.05)\n",
    "    labels = kwargs.pop('labels', ['Model {}'.format(x) for x in range(len(args))])\n",
    "    \n",
    "    # Determine appropriate signs for hypotheses\n",
    "    if alternate == 'less':\n",
    "        hyp_sign_1 = '>='\n",
    "        hyp_sign_2 = '<'\n",
    "        q = 2\n",
    "    elif alternate == 'more':\n",
    "        hyp_sign_1 = '<='\n",
    "        hyp_sign_2 = '>'\n",
    "        q = 2\n",
    "    elif alternate == 'unequal':\n",
    "        hyp_sign_1 = '='\n",
    "        hyp_sign_2 = '!='\n",
    "        q = 1\n",
    "    \n",
    "    # Determine the Bonferroni correction based on number of hypotheses to test\n",
    "    m = len(args) - 1\n",
    "    bonferroni = alpha / m\n",
    "    \n",
    "    for arg, label in zip(args[1:], labels[1:]):\n",
    "        # Calculate t and p\n",
    "        t_statistic, p_value = ttest_ind(args[0], arg)\n",
    "        hyp_state = 'Ho: {0} {1} {2}\\nHa: {0} {3} {2}\\nReject Ho when p/2 < {4} and t {3} 0'.format(labels[0], hyp_sign_1, label, hyp_sign_2, bonferroni)\n",
    "        hyp_test = '\\tT-statistic: {0:.2f}, P-value: {1}'.format(t_statistic, p_value)\n",
    "        # Determine whether to reject null hypothesis\n",
    "        if p_value / q < bonferroni:\n",
    "            if alternate == 'less' and t_statistic < 0:\n",
    "                res = 'Reject'\n",
    "            elif alternate == 'more' and t_statistic > 0:\n",
    "                res = 'Reject'\n",
    "            elif alternate == 'unequal':\n",
    "                res = 'Reject'\n",
    "            else:\n",
    "                res = 'Fail to reject'\n",
    "        else:\n",
    "            res = 'Fail to reject'\n",
    "        hyp_result = '\\t{0} the null hypothesis.'.format(res)\n",
    "        print('\\n'.join([hyp_state, hyp_test, hyp_result]) + '\\n')"
   ]
  },
  {
   "cell_type": "code",
   "execution_count": 30,
   "metadata": {},
   "outputs": [
    {
     "name": "stdout",
     "output_type": "stream",
     "text": [
      "Ho: 2-gram >= 3-gram\n",
      "Ha: 2-gram < 3-gram\n",
      "Reject Ho when p/2 < 0.016666666666666666 and t < 0\n",
      "\tT-statistic: -10.18, P-value: 7.600067330362548e-20\n",
      "\tReject the null hypothesis.\n",
      "\n",
      "Ho: 2-gram >= 4-gram\n",
      "Ha: 2-gram < 4-gram\n",
      "Reject Ho when p/2 < 0.016666666666666666 and t < 0\n",
      "\tT-statistic: -1.59, P-value: 0.11361571945586524\n",
      "\tFail to reject the null hypothesis.\n",
      "\n",
      "Ho: 2-gram >= 5-gram\n",
      "Ha: 2-gram < 5-gram\n",
      "Reject Ho when p/2 < 0.016666666666666666 and t < 0\n",
      "\tT-statistic: 6.91, P-value: 6.387178031562211e-11\n",
      "\tFail to reject the null hypothesis.\n",
      "\n"
     ]
    }
   ],
   "source": [
    "scores = [treebank_results[n]['acc'] for n in [2,3,4,5]]\n",
    "names = ['{0}-gram'.format(n) for n in [2,3,4,5]]\n",
    "compare_scores(*scores, labels=names, alternate='less', alpha=0.05)"
   ]
  },
  {
   "cell_type": "code",
   "execution_count": 31,
   "metadata": {},
   "outputs": [
    {
     "name": "stdout",
     "output_type": "stream",
     "text": [
      "Ho: 2-gram >= 3-gram\n",
      "Ha: 2-gram < 3-gram\n",
      "Reject Ho when p/2 < 0.016666666666666666 and t < 0\n",
      "\tT-statistic: -19.29, P-value: 2.4405226546230157e-47\n",
      "\tReject the null hypothesis.\n",
      "\n",
      "Ho: 2-gram >= 4-gram\n",
      "Ha: 2-gram < 4-gram\n",
      "Reject Ho when p/2 < 0.016666666666666666 and t < 0\n",
      "\tT-statistic: 9.61, P-value: 3.492369299867037e-18\n",
      "\tFail to reject the null hypothesis.\n",
      "\n",
      "Ho: 2-gram >= 5-gram\n",
      "Ha: 2-gram < 5-gram\n",
      "Reject Ho when p/2 < 0.016666666666666666 and t < 0\n",
      "\tT-statistic: 35.78, P-value: 2.2255837475179055e-88\n",
      "\tFail to reject the null hypothesis.\n",
      "\n"
     ]
    }
   ],
   "source": [
    "scores = [brown_results[n]['acc'] for n in [2,3,4,5]]\n",
    "names = ['{0}-gram'.format(n) for n in [2,3,4,5]]\n",
    "compare_scores(*scores, labels=names, alternate='less', alpha=0.05)"
   ]
  },
  {
   "cell_type": "markdown",
   "metadata": {},
   "source": [
    "As has been statistically shown, then, the Markov Assumption does not entirely hold. However, the Markov Assumption was always just that—an assumption which was known to not perfectly represent reality, but which could make our calculations easier at very little decrease in accuracy. In this way, the Markov Assumption is similar to the naïve assumption in a Naïve Bayes classifier. Although we can increase the accuracy of a POS tagger by considering more than one previous state, there will certainly be a point at which there is no more benefit to be gained. Furthermore, the gains in accuracy may be offset by the increased cost of considering more than one previous state. As can be seen in the plots above, the time-to-tag increases nearly linearly."
   ]
  },
  {
   "cell_type": "markdown",
   "metadata": {},
   "source": [
    "As in most things, then, the data practitioner will need to make a decision about whether or not the Markov Assumption is worth trusting. Overall accuracy is not the only metric that will need to be evaluated in such a decision, so it is not possible to make a blanket determination."
   ]
  },
  {
   "cell_type": "markdown",
   "metadata": {},
   "source": [
    "# Conclusion\n",
    "The Markov Assumption is a useful approximation of reality that can make calculations much faster in a Hidden Markov Model. However, data practitioners should be aware that the assumption is just that. The wise data practitioner, therefore, should test the performance of a Hidden Markov Model both with the Markov Assumption and without. The final determination on whether or not to trust this assumption will depend on the needs of each particular use case."
   ]
  }
 ],
 "metadata": {
  "kernelspec": {
   "display_name": "Python 3",
   "language": "python",
   "name": "python3"
  },
  "language_info": {
   "codemirror_mode": {
    "name": "ipython",
    "version": 3
   },
   "file_extension": ".py",
   "mimetype": "text/x-python",
   "name": "python",
   "nbconvert_exporter": "python",
   "pygments_lexer": "ipython3",
   "version": "3.6.2"
  }
 },
 "nbformat": 4,
 "nbformat_minor": 2
}
